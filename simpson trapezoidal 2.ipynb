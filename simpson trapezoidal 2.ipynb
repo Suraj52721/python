{
 "cells": [
  {
   "cell_type": "code",
   "execution_count": null,
   "metadata": {},
   "outputs": [],
   "source": [
    "import matplotlib.pyplot as plt\n",
    "import math\n",
    "import numpy as np\n",
    "def f(x):\n",
    "  y=2000*math.log(140000/(140000-2100*x))-9.8*x\n",
    "  return y\n",
    "\n",
    "actual=11061\n",
    "error1=[]\n",
    "def trapezoidal(segment):\n",
    "    for t in range(2,segment+2):\n",
    "        a=8\n",
    "        b=30\n",
    "        sum=0\n",
    "        list=np.linspace(a,b,t)\n",
    "        for a0 in list:\n",
    "            area=(a0-a)*(f(a)+f(a0))/2\n",
    "            sum=sum+area\n",
    "            a=a0\n",
    "        error=abs(actual-sum)*100/actual\n",
    "        error1.append(error)\n",
    "        print(f'Area segment {t-1} ={sum}   error= {error}%')\n",
    "\n",
    "error2=[]\n",
    "def simpson(segment):\n",
    "    for t in range(2,segment+2):\n",
    "        a=8\n",
    "        b=30\n",
    "        sum=0\n",
    "        list=np.linspace(a,b,t)\n",
    "        for a0 in list:\n",
    "            area=(a0-a)*(f(a)+4*f((a+a0)/2)+f(a0))/6\n",
    "            sum=sum+area\n",
    "            a=a0\n",
    "        error=abs(actual-sum)*100/actual\n",
    "        error2.append(error)\n",
    "        print(f'Area segment {t-1} ={sum}   error= {error}%')\n",
    "\n",
    "print('Trapezoidal Method')\n",
    "trapezoidal(10)\n",
    "print('\\n')\n",
    "print('Simpson Method')\n",
    "simpson(10)\n",
    "plt.plot(error1,label='Trapezoidal',marker='o')\n",
    "plt.plot(error2,label='Simpson',marker='o')\n",
    "plt.title('Error')\n",
    "plt.legend()\n",
    "plt.show()\n"
   ]
  }
 ],
 "metadata": {
  "language_info": {
   "name": "python"
  },
  "orig_nbformat": 4
 },
 "nbformat": 4,
 "nbformat_minor": 2
}
