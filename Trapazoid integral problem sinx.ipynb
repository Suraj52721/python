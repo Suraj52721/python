{
 "cells": [
  {
   "cell_type": "code",
   "execution_count": 14,
   "id": "f4682aa0",
   "metadata": {},
   "outputs": [
    {
     "name": "stdout",
     "output_type": "stream",
     "text": [
      "1.2246467991473532e-16\n",
      "1.9236706937217898e-16\n"
     ]
    },
    {
     "data": {
      "text/plain": [
       "\"\\nactual=1\\ndef multiple(segment):\\n    for t in range(2,segment+2):\\n        a=0\\n        b=math.pi\\n        sum=0\\n        list=np.linspace(a,b,t)\\n        for a0 in list:\\n            area=(a0-a)*(f(a)+f(a0))/2\\n            sum=sum+area\\n            a=a0\\n        #error=abs(actual-sum)*100/actual\\n        print(f'Area segment {t-1}={sum}')\\nmultiple(10)\\n\""
      ]
     },
     "execution_count": 14,
     "metadata": {},
     "output_type": "execute_result"
    }
   ],
   "source": [
    "import math\n",
    "import numpy as np\n",
    "def f(x):\n",
    "    return np.sin(x)\n",
    "print(f(math.pi))\n",
    "a=0\n",
    "b=math.pi\n",
    "area=(b-a)*(f(a)+f(b))/2\n",
    "print(area)\n",
    "\n",
    "'''\n",
    "actual=1\n",
    "def multiple(segment):\n",
    "    for t in range(2,segment+2):\n",
    "        a=0\n",
    "        b=math.pi\n",
    "        sum=0\n",
    "        list=np.linspace(a,b,t)\n",
    "        for a0 in list:\n",
    "            area=(a0-a)*(f(a)+f(a0))/2\n",
    "            sum=sum+area\n",
    "            a=a0\n",
    "        #error=abs(actual-sum)*100/actual\n",
    "        print(f'Area segment {t-1}={sum}')\n",
    "multiple(10)\n",
    "'''\n",
    "\n",
    "\n",
    "\n",
    "\n",
    "\n",
    "\n",
    "\n",
    "\n",
    "\n"
   ]
  },
  {
   "cell_type": "code",
   "execution_count": null,
   "id": "45a56ab7",
   "metadata": {},
   "outputs": [],
   "source": []
  },
  {
   "cell_type": "code",
   "execution_count": null,
   "id": "99c1ea93",
   "metadata": {},
   "outputs": [],
   "source": []
  },
  {
   "cell_type": "code",
   "execution_count": null,
   "id": "3dc88964",
   "metadata": {},
   "outputs": [],
   "source": []
  }
 ],
 "metadata": {
  "kernelspec": {
   "display_name": "Python 3 (ipykernel)",
   "language": "python",
   "name": "python3"
  },
  "language_info": {
   "codemirror_mode": {
    "name": "ipython",
    "version": 3
   },
   "file_extension": ".py",
   "mimetype": "text/x-python",
   "name": "python",
   "nbconvert_exporter": "python",
   "pygments_lexer": "ipython3",
   "version": "3.11.3"
  }
 },
 "nbformat": 4,
 "nbformat_minor": 5
}
