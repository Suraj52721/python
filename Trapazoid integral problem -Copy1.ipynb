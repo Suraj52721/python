{
 "cells": [
  {
   "cell_type": "code",
   "execution_count": 50,
   "id": "f4682aa0",
   "metadata": {},
   "outputs": [
    {
     "name": "stdout",
     "output_type": "stream",
     "text": [
      "Area segment 1=11868.34818984112 error=7.2990524350521575%\n",
      "Area segment 2=11266.374293259403 error=1.8567425482271331%\n",
      "Area segment 3=11152.759115356115 error=0.8295734143035459%\n",
      "Area segment 4=11112.820676369294 error=0.4684990178943516%\n",
      "Area segment 5=11094.30376302425 error=0.3010917911965524%\n",
      "Area segment 6=11084.236856848518 error=0.21007916868744303%\n",
      "Area segment 7=11078.163979543107 error=0.1551756581060249%\n",
      "Area segment 8=11074.221297660053 error=0.11953076268016541%\n",
      "Area segment 9=11071.517683462695 error=0.09508799803539056%\n",
      "Area segment 10=11069.583542061686 error=0.07760186295710944%\n"
     ]
    }
   ],
   "source": [
    "import math\n",
    "import numpy as np\n",
    "def f(t):\n",
    "  y=2000*math.log(140000/(140000-2100*t))-9.8*t\n",
    "  return y\n",
    "\n",
    "actual=11061\n",
    "def multiple(segment):\n",
    "    for t in range(2,segment+2):\n",
    "        a=8\n",
    "        b=30\n",
    "        sum=0\n",
    "        list=np.linspace(a,b,t)\n",
    "        for a0 in list:\n",
    "            area=(a0-a)*(f(a)+f(a0))/2\n",
    "            sum=sum+area\n",
    "            a=a0\n",
    "        error=abs(actual-sum)*100/actual\n",
    "        print(f'Area segment {t-1}={sum} error={error}%')\n",
    "multiple(10)\n",
    "\n",
    "\n",
    "\n",
    "\n",
    "\n",
    "\n",
    "\n",
    "\n",
    "\n",
    "\n"
   ]
  },
  {
   "cell_type": "code",
   "execution_count": null,
   "id": "45a56ab7",
   "metadata": {},
   "outputs": [],
   "source": []
  },
  {
   "cell_type": "code",
   "execution_count": null,
   "id": "99c1ea93",
   "metadata": {},
   "outputs": [],
   "source": []
  },
  {
   "cell_type": "code",
   "execution_count": null,
   "id": "3dc88964",
   "metadata": {},
   "outputs": [],
   "source": []
  }
 ],
 "metadata": {
  "kernelspec": {
   "display_name": "Python 3 (ipykernel)",
   "language": "python",
   "name": "python3"
  },
  "language_info": {
   "codemirror_mode": {
    "name": "ipython",
    "version": 3
   },
   "file_extension": ".py",
   "mimetype": "text/x-python",
   "name": "python",
   "nbconvert_exporter": "python",
   "pygments_lexer": "ipython3",
   "version": "3.11.3"
  }
 },
 "nbformat": 4,
 "nbformat_minor": 5
}
